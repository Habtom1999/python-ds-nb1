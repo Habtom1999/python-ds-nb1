{
 "cells": [
  {
   "cell_type": "markdown",
   "id": "5a9252ce-064d-4a0b-be8b-67e8043b9128",
   "metadata": {},
   "source": [
    "### Habtom Woldu"
   ]
  },
  {
   "cell_type": "markdown",
   "id": "7aef551f-8dc2-4a51-bc9f-10ae897272fe",
   "metadata": {},
   "source": [
    "Q.10 Create a new Jupyter Notebook (the name of the notebook should be your S number). Add a Markdown cell that contains your name. Add a Code cell and write Python that uses loops to draw the following pattern:"
   ]
  },
  {
   "cell_type": "code",
   "execution_count": 1,
   "id": "69ba8bb0-b349-41ef-8e74-8b4fa7e84b96",
   "metadata": {},
   "outputs": [
    {
     "name": "stdout",
     "output_type": "stream",
     "text": [
      "*      *\n",
      "**    **\n",
      "***  ***\n",
      "********\n"
     ]
    }
   ],
   "source": [
    "for i in range (1,5):\n",
    "    void = 8 - 2*i\n",
    "    for j in range (i):\n",
    "        print('*', end='')\n",
    "    for j in range(void):\n",
    "        print(' ', end='')\n",
    "    for j in range(i):\n",
    "        print('*', end='')\n",
    "    print()"
   ]
  },
  {
   "cell_type": "code",
   "execution_count": null,
   "id": "87973a3b-1a7d-4418-8bd2-10c3809a07ab",
   "metadata": {},
   "outputs": [],
   "source": []
  }
 ],
 "metadata": {
  "kernelspec": {
   "display_name": "Python 3 (ipykernel)",
   "language": "python",
   "name": "python3"
  },
  "language_info": {
   "codemirror_mode": {
    "name": "ipython",
    "version": 3
   },
   "file_extension": ".py",
   "mimetype": "text/x-python",
   "name": "python",
   "nbconvert_exporter": "python",
   "pygments_lexer": "ipython3",
   "version": "3.9.13"
  }
 },
 "nbformat": 4,
 "nbformat_minor": 5
}
